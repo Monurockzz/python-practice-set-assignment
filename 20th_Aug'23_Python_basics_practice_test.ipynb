{
  "nbformat": 4,
  "nbformat_minor": 0,
  "metadata": {
    "colab": {
      "provenance": []
    },
    "kernelspec": {
      "name": "python3",
      "display_name": "Python 3"
    },
    "language_info": {
      "name": "python"
    }
  },
  "cells": [
    {
      "cell_type": "markdown",
      "source": [
        "String Based Assignment Problem:"
      ],
      "metadata": {
        "id": "2e995vy2ZDzF"
      }
    },
    {
      "cell_type": "code",
      "source": [
        "def reversed_string(input_string):\n",
        "  # using slicing to reverse the string\n",
        "  reversed_string = input_string[::-1]\n",
        "  return reversed_string\n",
        "\n",
        "  # example:\n",
        "input_string = \"this is my 2nd assignment\"\n",
        "result = reversed_string(input_string)\n",
        "\n",
        "print(\"original string:\", input_string)\n",
        "print(\"reversed string:\", result)\n"
      ],
      "metadata": {
        "id": "8slMtKHg4SZi"
      },
      "execution_count": null,
      "outputs": []
    },
    {
      "cell_type": "code",
      "source": [
        "def convert_to_uppercase (input_string):\n",
        "# useing the upper() method to convert the string to uppercase\n",
        "  uppercase_string = input_string.upper()\n",
        "  return uppercase_string\n",
        "\n",
        "\n",
        "# example:\n",
        "input_string = \"my name is md masood alam\"\n",
        "result = convert_to_uppercase(input_string)\n",
        "print(\"original string:\", input_string)\n",
        "print(\"uppercase string:\", result)"
      ],
      "metadata": {
        "id": "-l3pCib96y60"
      },
      "execution_count": null,
      "outputs": []
    },
    {
      "cell_type": "code",
      "source": [
        "def convert_to_lowercase (input_string):\n",
        "  # useing the lower() method to convert the string to lowercase\n",
        "  lowercase_string = input_string.lower()\n",
        "  return lowercase_string\n",
        "\n",
        "  # Example:\n",
        "  input_string = \"I AM LEARNING DATA SCIENCE\"\n",
        "  result = convert_to_lowercase(input_string)\n",
        "  print(\"original string:\", input_string)\n",
        "  print(\"lowercase string:\", result)\n",
        "\n"
      ],
      "metadata": {
        "id": "oGapak1y94pb"
      },
      "execution_count": null,
      "outputs": []
    },
    {
      "cell_type": "code",
      "source": [
        "def count_vowels(input_string):\n",
        "  # set of vowels\n",
        "  vowels = set(\"aeiouAEIOU\")\n",
        "  # A counter for vowels\n",
        "  vowel_count = 0\n",
        "  # Iterate thorugh each character in the string\n",
        "  for char in input_string:\n",
        "  # Cheak if charcter is vowel\n",
        "    if char in vowels:\n",
        "      vowel_count += 1\n",
        "      return vowel_count\n",
        "\n",
        "# Example:\n",
        "input_string = \"so far so good\"\n",
        "result = count_vowels(input_string)\n",
        "print(\"Original String:\", input_string)\n",
        "print(\"Number of Vowels:\", result)\n"
      ],
      "metadata": {
        "id": "6jKu--c5_5-u"
      },
      "execution_count": null,
      "outputs": []
    },
    {
      "cell_type": "code",
      "source": [
        "def count_consonants(input_string):\n",
        "    # Define a set of vowels\n",
        "    vowels = set(\"aeiouAEIOU\")\n",
        "\n",
        "    # Initialize a counter for consonants\n",
        "    consonant_count = 0\n",
        "\n",
        "    # Iterate through each character in the string\n",
        "    for char in input_string:\n",
        "        # Check if the character is an alphabetical character and not a vowel\n",
        "        if char.isalpha() and char not in vowels:\n",
        "            consonant_count += 1\n",
        "\n",
        "    return consonant_count\n",
        "\n",
        "# Example usage:\n",
        "input_str = \"this is a counter for consonants\"\n",
        "result = count_consonants(input_str)\n",
        "print(\"Original String:\", input_str)\n",
        "print(\"Number of Consonants:\", result)\n"
      ],
      "metadata": {
        "id": "yYiJlbV1EFBA"
      },
      "execution_count": null,
      "outputs": []
    },
    {
      "cell_type": "code",
      "source": [
        "def remove_whitespaces(input_string):\n",
        "    # Useing the replace() method to remove whitespaces\n",
        "    no_whitespace_string = input_string.replace(\" \", \"\")\n",
        "    return no_whitespace_string\n",
        "\n",
        "# Example:\n",
        "input_str = \"I l o ve spi derman\"\n",
        "result = remove_whitespaces(input_str)\n",
        "print(\"Original String:\", input_str)\n",
        "print(\"String without Whitespaces:\", result)\n"
      ],
      "metadata": {
        "id": "WRneQw4oGd6U"
      },
      "execution_count": null,
      "outputs": []
    },
    {
      "cell_type": "code",
      "source": [
        "def find_string_length(input_string):\n",
        "    # A counter for the string length\n",
        "    length = 0\n",
        "\n",
        "    # Iterate through each character in the string\n",
        "    for char in input_string:\n",
        "        # Increment the length counter\n",
        "        length += 1\n",
        "\n",
        "    return length\n",
        "\n",
        "# Example usage:\n",
        "input_str = \"masood alam\"\n",
        "result = find_string_length(input_str)\n",
        "print(f\"string lenth:\",result)\n"
      ],
      "metadata": {
        "id": "-dcjUZlqHTX8"
      },
      "execution_count": null,
      "outputs": []
    },
    {
      "cell_type": "code",
      "source": [
        "def contains_word(input_str, target_word):\n",
        "  # Useing the 'in' keyw to check if the target word is in the input string\n",
        "  return target_word in input_str\n",
        "\n",
        "\n",
        "  # program\n",
        "input_str = \"my name is md masood alam\"\n",
        "target = \"masood\"\n",
        "result = contains_word,(input_str, target)\n",
        "\n",
        "print(f\"The string '{input_str}' contains the word '{target}'\")\n",
        "\n",
        "\n",
        "\n"
      ],
      "metadata": {
        "id": "dYY_CE2OS4AU"
      },
      "execution_count": null,
      "outputs": []
    },
    {
      "cell_type": "code",
      "source": [
        "def replace_word(input_string, old_word, new_word):\n",
        "    # Use the replace() method to replace the old word with the new word\n",
        "    modified_string = input_string.replace(old_word, new_word)\n",
        "    return modified_string\n",
        "\n",
        "# Example usage:\n",
        "input_str = \"Hello, World! How are you today?\"\n",
        "old_word = \"World\"\n",
        "new_word = \"Universe\"\n",
        "\n",
        "result = replace_word(input_str, old_word, new_word)\n",
        "\n",
        "print(f\"Original String: '{input_str}'\")\n",
        "print(f\"Modified String: '{result}'\")\n"
      ],
      "metadata": {
        "id": "4EucsDsP23FB"
      },
      "execution_count": null,
      "outputs": []
    },
    {
      "cell_type": "code",
      "source": [
        "def find_first_occurrence(input_string, target_word):\n",
        "    # Use the find() method to get the index of the first occurrence of the target word\n",
        "    index = input_string.find(target_word)\n",
        "\n",
        "    # Check if the word is found\n",
        "    if index != -1:\n",
        "        return f\"The first occurrence of '{target_word}' is at index {index}.\"\n",
        "    else:\n",
        "        return f\"The word '{target_word}' is not found in the string.\"\n",
        "\n",
        "# Example usage:\n",
        "input_str = \"Hello, World! How are you today? World is a big place.\"\n",
        "target = \"World\"\n",
        "\n",
        "result = find_first_occurrence(input_str, target)\n",
        "\n",
        "print(f\"Original String: '{input_str}'\")\n",
        "print(result)\n"
      ],
      "metadata": {
        "id": "LxdlDB4wBJib"
      },
      "execution_count": null,
      "outputs": []
    },
    {
      "cell_type": "code",
      "source": [
        "def split_into_words(input_string):\n",
        "    # Use the split() method to split the string into a list of words\n",
        "    words_list = input_string.split()\n",
        "    return words_list\n",
        "\n",
        "# Example usage:\n",
        "input_str = \"My name is md masood alam\"\n",
        "result = split_into_words(input_str)\n",
        "\n",
        "print(f\"Original String: '{input_str}'\")\n",
        "print(\"List of Words:\", result)\n"
      ],
      "metadata": {
        "id": "9FTYZ2AbkniZ"
      },
      "execution_count": null,
      "outputs": []
    },
    {
      "cell_type": "code",
      "source": [
        "def join_words(words_list):\n",
        "    # Use the join() method to concatenate the list of words into a string\n",
        "    joined_string = \" \".join(words_list)\n",
        "    return joined_string\n",
        "\n",
        "# Example usage:\n",
        "words_list = ['Hello,', 'World!', 'How', 'are', 'you', 'today?']\n",
        "result = join_words(words_list)\n",
        "\n",
        "print(\"List of Words:\", words_list)\n",
        "print(\"Joined String:\", result)\n"
      ],
      "metadata": {
        "id": "JRgkZDnckQ73"
      },
      "execution_count": null,
      "outputs": []
    },
    {
      "cell_type": "code",
      "source": [
        "def convert_spaces_to_underscores(input_string):\n",
        "    # Use the replace() method to replace spaces with underscores\n",
        "    modified_string = input_string.replace(\" \", \"_\")\n",
        "    return modified_string\n",
        "\n",
        "# Example usage:\n",
        "input_str = \"Hello,My name is md masood alam?\"\n",
        "result = convert_spaces_to_underscores(input_str)\n",
        "\n",
        "print(\"Original String:\", input_str)\n",
        "print(\"Modified String:\", result)\n"
      ],
      "metadata": {
        "id": "VxkEZPcjlEgs"
      },
      "execution_count": null,
      "outputs": []
    },
    {
      "cell_type": "code",
      "source": [
        "def find_string_length(input_string):\n",
        "    # Initialize a counter for the string length\n",
        "    length = 0\n",
        "\n",
        "    # Iterate through each character in the string\n",
        "    for char in input_string:\n",
        "        # Increment the length counter\n",
        "        length += 1\n",
        "\n",
        "    return length\n",
        "\n",
        "# Example usage:\n",
        "input_str = \"Hello, World!\"\n",
        "result = find_string_length(input_str)\n",
        "print(\"Original String:\", input_str)\n",
        "print(\"Length of String:\", result)\n"
      ],
      "metadata": {
        "id": "i0gxlyavYNr_"
      },
      "execution_count": null,
      "outputs": []
    },
    {
      "cell_type": "code",
      "source": [
        "def contains_word(input_string, target_word):\n",
        "    # Use the 'in' keyword to check if the target word is in the input string\n",
        "    return target_word in input_string\n",
        "\n",
        "# Example usage:\n",
        "input_str = \"Hello, World! How are you today?\"\n",
        "target = \"World\"\n",
        "result = contains_word(input_str, target)\n",
        "\n",
        "print(f\"The string '{input_str}' contains the word '{target}': {result}\")\n"
      ],
      "metadata": {
        "id": "Wkr1fSVaYX-e"
      },
      "execution_count": null,
      "outputs": []
    },
    {
      "cell_type": "code",
      "source": [
        "def replace_word(input_string, old_word, new_word):\n",
        "    # Use the replace() method to replace the old word with the new word\n",
        "    modified_string = input_string.replace(old_word, new_word)\n",
        "    return modified_string\n",
        "\n",
        "# Example usage:\n",
        "input_str = \"Hello, World! How are you today?\"\n",
        "old_word = \"World\"\n",
        "new_word = \"Universe\"\n",
        "\n",
        "result = replace_word(input_str, old_word, new_word)\n",
        "\n",
        "print(f\"Original String: '{input_str}'\")\n",
        "print(f\"Modified String: '{result}'\")\n"
      ],
      "metadata": {
        "id": "pFOvmlVpYi14"
      },
      "execution_count": null,
      "outputs": []
    },
    {
      "cell_type": "code",
      "source": [
        "def count_word_occurrences(input_string, target_word):\n",
        "    # Split the input string into a list of words\n",
        "    words_list = input_string.split()\n",
        "\n",
        "    # Initialize a counter for word occurrences\n",
        "    occurrences = 0\n",
        "\n",
        "    # Iterate through each word in the list\n",
        "    for word in words_list:\n",
        "        # Check if the word matches the target word\n",
        "        if word == target_word:\n",
        "            occurrences += 1\n",
        "\n",
        "    return occurrences\n",
        "\n",
        "# Example usage:\n",
        "input_str = \"Hello, World! Hello, Universe! How are you today?\"\n",
        "target = \"Hello\"\n",
        "result = count_word_occurrences(input_str, target)\n",
        "\n",
        "print(f\"The word '{target}' appears {result} times in the string.\")\n"
      ],
      "metadata": {
        "id": "qTwwWPKaYpJR"
      },
      "execution_count": null,
      "outputs": []
    },
    {
      "cell_type": "code",
      "source": [
        "def convert_spaces_to_underscores(input_string):\n",
        "    # Use the replace() method to replace spaces with underscores\n",
        "    modified_string = input_string.replace(\" \", \"_\")\n",
        "    return modified_string\n",
        "\n",
        "# Example usage:\n",
        "input_str = \"Hello, World! How are you today?\"\n",
        "result = convert_spaces_to_underscores(input_str)\n",
        "\n",
        "print(\"Original String:\", input_str)\n",
        "print(\"Modified String:\", result)\n"
      ],
      "metadata": {
        "id": "1wMRaSLAY3DJ"
      },
      "execution_count": null,
      "outputs": []
    },
    {
      "cell_type": "code",
      "source": [
        "def starts_with_word(input_string, prefix):\n",
        "    # Use the startswith() method to check if the string starts with the specified prefix\n",
        "    return input_string.startswith(prefix)\n",
        "\n",
        "# Example usage:\n",
        "input_str = \"Hello, World! How are you today?\"\n",
        "prefix = \"Hello\"\n",
        "\n",
        "result = starts_with_word(input_str, prefix)\n",
        "\n",
        "print(f\"The string '{input_str}' starts with the word '{prefix}': {result}\")\n"
      ],
      "metadata": {
        "id": "rZg8pQSJYrH1"
      },
      "execution_count": null,
      "outputs": []
    },
    {
      "cell_type": "code",
      "source": [
        "def ends_with_word(input_string, suffix):\n",
        "    # Use the endswith() method to check if the string ends with the specified suffix\n",
        "    return input_string.endswith(suffix)\n",
        "\n",
        "# Example usage:\n",
        "input_str = \"Hello, World! How are you today?\"\n",
        "suffix = \"today\"\n",
        "\n",
        "result = ends_with_word(input_str, suffix)\n",
        "\n",
        "print(f\"The string '{input_str}' ends with the word '{suffix}': {result}\")\n"
      ],
      "metadata": {
        "id": "SxrMpnS7ZD9y"
      },
      "execution_count": null,
      "outputs": []
    },
    {
      "cell_type": "code",
      "source": [
        "def to_title_case(input_string):\n",
        "    # Use the title() method to convert the string to title case\n",
        "    title_case_string = input_string.title()\n",
        "    return title_case_string\n",
        "\n",
        "# Example usage:\n",
        "input_str = \"hello world\"\n",
        "result = to_title_case(input_str)\n",
        "\n",
        "print(\"Original String:\", input_str)\n",
        "print(\"Title Case String:\", result)\n"
      ],
      "metadata": {
        "id": "9qHsiSJJZKeY"
      },
      "execution_count": null,
      "outputs": []
    },
    {
      "cell_type": "code",
      "source": [
        "def find_longest_word(input_string):\n",
        "    # Split the input string into a list of words\n",
        "    words_list = input_string.split()\n",
        "\n",
        "    # Initialize variables to store the longest word and its length\n",
        "    longest_word = \"\"\n",
        "    max_length = 0\n",
        "\n",
        "    # Iterate through each word in the list\n",
        "    for word in words_list:\n",
        "        # Check if the current word is longer than the current longest word\n",
        "        if len(word) > max_length:\n",
        "            longest_word = word\n",
        "            max_length = len(word)\n",
        "\n",
        "    return longest_word\n",
        "\n",
        "# Example usage:\n",
        "input_str = \"Hello, World! How are you today?\"\n",
        "result = find_longest_word(input_str)\n",
        "\n",
        "print(\"Original String:\", input_str)\n",
        "print(\"Longest Word:\", result)\n"
      ],
      "metadata": {
        "id": "UkBi8KnyZQvf"
      },
      "execution_count": null,
      "outputs": []
    },
    {
      "cell_type": "code",
      "source": [
        "def find_shortest_word(input_string):\n",
        "    # Split the input string into a list of words\n",
        "    words_list = input_string.split()\n",
        "\n",
        "    # Initialize variables to store the shortest word and its length\n",
        "    shortest_word = None\n",
        "    min_length = float('inf')  # Set to positive infinity initially\n",
        "\n",
        "    # Iterate through each word in the list\n",
        "    for word in words_list:\n",
        "        # Check if the current word is shorter than the current shortest word\n",
        "        if len(word) < min_length:\n",
        "            shortest_word = word\n",
        "            min_length = len(word)\n",
        "\n",
        "    return shortest_word\n",
        "\n",
        "# Example usage:\n",
        "input_str = \"Hello, World! How are you today?\"\n",
        "result = find_shortest_word(input_str)\n",
        "\n",
        "print(\"Original String:\", input_str)\n",
        "print(\"Shortest Word:\", result)\n"
      ],
      "metadata": {
        "id": "aHd2SCu9ZXKB"
      },
      "execution_count": null,
      "outputs": []
    },
    {
      "cell_type": "code",
      "source": [
        "def reverse_words_order(input_string):\n",
        "    # Split the input string into a list of words\n",
        "    words_list = input_string.split()\n",
        "\n",
        "    # Reverse the order of the list of words\n",
        "    reversed_words_list = reversed(words_list)\n",
        "\n",
        "    # Join the reversed list of words into a string\n",
        "    reversed_string = ' '.join(reversed_words_list)\n",
        "\n",
        "    return reversed_string\n",
        "\n",
        "# Example usage:\n",
        "input_str = \"Hello, World! How are you today?\"\n",
        "result = reverse_words_order(input_str)\n",
        "\n",
        "print(\"Original String:\", input_str)\n",
        "print(\"Reversed String:\", result)\n"
      ],
      "metadata": {
        "id": "TmGbh7UtZc8X"
      },
      "execution_count": null,
      "outputs": []
    },
    {
      "cell_type": "code",
      "source": [
        "def is_alphanumeric(input_string):\n",
        "    # Use the isalnum() method to check if the string is alphanumeric\n",
        "    return input_string.isalnum()\n",
        "\n",
        "# Example usage:\n",
        "string1 = \"Hello123\"\n",
        "string2 = \"Hello 123\"  # Contains a space, so it's not alphanumeric\n",
        "\n",
        "result1 = is_alphanumeric(string1)\n",
        "result2 = is_alphanumeric(string2)\n",
        "\n",
        "print(f\"String '{string1}' is alphanumeric: {result1}\")\n",
        "print(f\"String '{string2}' is alphanumeric: {result2}\")\n"
      ],
      "metadata": {
        "id": "Yt-0XRbWZime"
      },
      "execution_count": null,
      "outputs": []
    },
    {
      "cell_type": "code",
      "source": [
        "def extract_digits(input_string):\n",
        "    # Initialize an empty string to store the extracted digits\n",
        "    extracted_digits = \"\"\n",
        "\n",
        "    # Iterate through each character in the string\n",
        "    for char in input_string:\n",
        "        # Check if the character is a digit\n",
        "        if char.isdigit():\n",
        "            extracted_digits += char\n",
        "\n",
        "    return extracted_digits\n",
        "\n",
        "# Example usage:\n",
        "input_str = \"Hello123World456\"\n",
        "result = extract_digits(input_str)\n",
        "\n",
        "print(\"Original String:\", input_str)\n",
        "print(\"Extracted Digits:\", result)\n"
      ],
      "metadata": {
        "id": "-XH4eHFcZq5A"
      },
      "execution_count": null,
      "outputs": []
    },
    {
      "cell_type": "code",
      "source": [
        "def extract_alphabets(input_string):\n",
        "    # Initialize an empty string to store the extracted alphabets\n",
        "    extracted_alphabets = \"\"\n",
        "\n",
        "    # Iterate through each character in the string\n",
        "    for char in input_string:\n",
        "        # Check if the character is an alphabet\n",
        "        if char.isalpha():\n",
        "            extracted_alphabets += char\n",
        "\n",
        "    return extracted_alphabets\n",
        "\n",
        "# Example usage:\n",
        "input_str = \"Hello123World456\"\n",
        "result = extract_alphabets(input_str)\n",
        "\n",
        "print(\"Original String:\", input_str)\n",
        "print(\"Extracted Alphabets:\", result)\n"
      ],
      "metadata": {
        "id": "0Ga255hpZwqv"
      },
      "execution_count": null,
      "outputs": []
    },
    {
      "cell_type": "code",
      "source": [
        "def count_uppercase_letters(input_string):\n",
        "    # Initialize a counter for uppercase letters\n",
        "    uppercase_count = 0\n",
        "\n",
        "    # Iterate through each character in the string\n",
        "    for char in input_string:\n",
        "        # Check if the character is an uppercase letter\n",
        "        if char.isupper():\n",
        "            uppercase_count += 1\n",
        "\n",
        "    return uppercase_count\n",
        "\n",
        "# Example usage:\n",
        "input_str = \"Hello, World!\"\n",
        "result = count_uppercase_letters(input_str)\n",
        "\n",
        "print(\"Original String:\", input_str)\n",
        "print(\"Number of Uppercase Letters:\", result)\n"
      ],
      "metadata": {
        "id": "4xi2s_vyZ2lX"
      },
      "execution_count": null,
      "outputs": []
    },
    {
      "cell_type": "code",
      "source": [
        "def count_lowercase_letters(input_string):\n",
        "    # Initialize a counter for lowercase letters\n",
        "    lowercase_count = 0\n",
        "\n",
        "    # Iterate through each character in the string\n",
        "    for char in input_string:\n",
        "        # Check if the character is a lowercase letter\n",
        "        if char.islower():\n",
        "            lowercase_count += 1\n",
        "\n",
        "    return lowercase_count\n",
        "\n",
        "# Example usage:\n",
        "input_str = \"Hello, World!\"\n",
        "result = count_lowercase_letters(input_str)\n",
        "\n",
        "print(\"Original String:\", input_str)\n",
        "print(\"Number of Lowercase Letters:\", result)\n"
      ],
      "metadata": {
        "id": "pd3wV4WyaDQG"
      },
      "execution_count": null,
      "outputs": []
    },
    {
      "cell_type": "code",
      "source": [
        "def swap_case(input_string):\n",
        "    # Use the swapcase() method to swap the case of each character\n",
        "    swapped_string = input_string.swapcase()\n",
        "    return swapped_string\n",
        "\n",
        "# Example usage:\n",
        "input_str = \"Hello, World!\"\n",
        "result = swap_case(input_str)\n",
        "\n",
        "print(\"Original String:\", input_str)\n",
        "print(\"Swapped Case String:\", result)\n"
      ],
      "metadata": {
        "id": "iwnuUSfbaMz3"
      },
      "execution_count": null,
      "outputs": []
    },
    {
      "cell_type": "code",
      "source": [
        "def remove_word(input_string, word_to_remove):\n",
        "    # Use the replace() method to remove the specified word\n",
        "    modified_string = input_string.replace(word_to_remove, \"\")\n",
        "    return modified_string\n",
        "\n",
        "# Example usage:\n",
        "input_str = \"Hello, World! How are you today?\"\n",
        "word_to_remove = \"World\"\n",
        "\n",
        "result = remove_word(input_str, word_to_remove)\n",
        "\n",
        "print(f\"Original String: '{input_str}'\")\n",
        "print(f\"String after removing '{word_to_remove}': '{result}'\")\n"
      ],
      "metadata": {
        "id": "7sXYNb2RaSWn"
      },
      "execution_count": null,
      "outputs": []
    },
    {
      "cell_type": "code",
      "source": [
        "import re\n",
        "\n",
        "def is_valid_email(email):\n",
        "    # Define a regular expression pattern for a simple email validation\n",
        "    pattern = r'^[a-zA-Z0-9_.+-]+@[a-zA-Z0-9-]+\\.[a-zA-Z0-9-.]+$'\n",
        "\n",
        "    # Use re.match() to check if the email matches the pattern\n",
        "    match = re.match(pattern, email)\n",
        "\n",
        "    # If a match is found, the email is valid\n",
        "    return match is not None\n",
        "\n",
        "# Example usage:\n",
        "email1 = \"user@example.com\"\n",
        "email2 = \"invalid-email\"\n",
        "\n",
        "result1 = is_valid_email(email1)\n",
        "result2 = is_valid_email(email2)\n",
        "\n",
        "print(f\"Is '{email1}' a valid email? {result1}\")\n",
        "print(f\"Is '{email2}' a valid email? {result2}\")\n"
      ],
      "metadata": {
        "id": "Sm6wHuUHaYG2"
      },
      "execution_count": null,
      "outputs": []
    },
    {
      "cell_type": "code",
      "source": [
        "def extract_username(email):\n",
        "    # Split the email address at the \"@\" symbol\n",
        "    parts = email.split(\"@\")\n",
        "\n",
        "    # The username is the first part of the split\n",
        "    username = parts[0]\n",
        "\n",
        "    return username\n",
        "\n",
        "# Example usage:\n",
        "email_address = \"user@example.com\"\n",
        "username = extract_username(email_address)\n",
        "\n",
        "print(f\"Email Address: {email_address}\")\n",
        "print(f\"Extracted Username: {username}\")\n"
      ],
      "metadata": {
        "id": "uplA2phtac_u"
      },
      "execution_count": null,
      "outputs": []
    },
    {
      "cell_type": "code",
      "source": [
        "def extract_domain(email):\n",
        "    # Split the email address at the \"@\" symbol\n",
        "    parts = email.split(\"@\")\n",
        "\n",
        "    # The domain is the second part of the split\n",
        "    domain = parts[1] if len(parts) > 1 else None\n",
        "\n",
        "    return domain\n",
        "\n",
        "# Example usage:\n",
        "email_address = \"user@example.com\"\n",
        "domain_name = extract_domain(email_address)\n",
        "\n",
        "print(f\"Email Address: {email_address}\")\n",
        "print(f\"Extracted Domain: {domain_name}\")\n"
      ],
      "metadata": {
        "id": "EzzYLhNoal4A"
      },
      "execution_count": null,
      "outputs": []
    },
    {
      "cell_type": "code",
      "source": [
        "import re\n",
        "\n",
        "def replace_multiple_spaces(input_string):\n",
        "    # Use re.sub() to replace multiple spaces with a single space\n",
        "    modified_string = re.sub(r'\\s+', ' ', input_string)\n",
        "    return modified_string\n",
        "\n",
        "# Example usage:\n",
        "input_str = \"Hello     World!   How   are    you today?\"\n",
        "result = replace_multiple_spaces(input_str)\n",
        "\n",
        "print(\"Original String:\", input_str)\n",
        "print(\"Modified String:\", result)\n"
      ],
      "metadata": {
        "id": "FM5UlIzGarJO"
      },
      "execution_count": null,
      "outputs": []
    },
    {
      "cell_type": "code",
      "source": [
        "from urllib.parse import urlparse\n",
        "\n",
        "def is_valid_url(url):\n",
        "    try:\n",
        "        # Use urlparse to parse the URL\n",
        "        parsed_url = urlparse(url)\n",
        "\n",
        "        # Check if the scheme (e.g., http, https) is present\n",
        "        return bool(parsed_url.scheme)\n",
        "    except Exception as e:\n",
        "        return False\n",
        "\n",
        "# Example usage:\n",
        "url1 = \"http://www.example.com\"\n",
        "url2 = \"invalid-url\"\n",
        "\n",
        "result1 = is_valid_url(url1)\n",
        "result2 = is_valid_url(url2)\n",
        "\n",
        "print(f\"Is '{url1}' a valid URL? {result1}\")\n",
        "print(f\"Is '{url2}' a valid URL? {result2}\")\n"
      ],
      "metadata": {
        "id": "DMjPcZqTawal"
      },
      "execution_count": null,
      "outputs": []
    },
    {
      "cell_type": "code",
      "source": [
        "from urllib.parse import urlparse\n",
        "\n",
        "def extract_protocol(url):\n",
        "    # Use urlparse to parse the URL\n",
        "    parsed_url = urlparse(url)\n",
        "\n",
        "    # Extract the protocol (scheme) from the parsed URL\n",
        "    protocol = parsed_url.scheme\n",
        "\n",
        "    return protocol\n",
        "\n",
        "# Example usage:\n",
        "url = \"https://www.example.com/path/to/resource\"\n",
        "protocol = extract_protocol(url)\n",
        "\n",
        "print(f\"URL: {url}\")\n",
        "print(f\"Extracted Protocol: {protocol}\")\n"
      ],
      "metadata": {
        "id": "OfwvtMKna1UN"
      },
      "execution_count": null,
      "outputs": []
    },
    {
      "cell_type": "code",
      "source": [
        "def character_frequency(input_string):\n",
        "    # Initialize an empty dictionary to store character frequencies\n",
        "    frequency_dict = {}\n",
        "\n",
        "    # Iterate through each character in the string\n",
        "    for char in input_string:\n",
        "        # Increment the count for the character in the dictionary\n",
        "        frequency_dict[char] = frequency_dict.get(char, 0) + 1\n",
        "\n",
        "    return frequency_dict\n",
        "\n",
        "# Example usage:\n",
        "input_str = \"Hello, World!\"\n",
        "result = character_frequency(input_str)\n",
        "\n",
        "print(\"Original String:\", input_str)\n",
        "print(\"Character Frequencies:\", result)\n"
      ],
      "metadata": {
        "id": "_ohmvD0za8BO"
      },
      "execution_count": null,
      "outputs": []
    },
    {
      "cell_type": "code",
      "source": [
        "import string\n",
        "\n",
        "def remove_punctuation(input_string):\n",
        "    # Create a translation table to map each punctuation character to None\n",
        "    translation_table = str.maketrans(\"\", \"\", string.punctuation)\n",
        "\n",
        "    # Use translate() to remove punctuation from the input string\n",
        "    cleaned_string = input_string.translate(translation_table)\n",
        "\n",
        "    return cleaned_string\n",
        "\n",
        "# Example usage:\n",
        "input_str = \"Hello, World! How are you today?\"\n",
        "result = remove_punctuation(input_str)\n",
        "\n",
        "print(\"Original String:\", input_str)\n",
        "print(\"String without Punctuation:\", result)\n"
      ],
      "metadata": {
        "id": "UbLoIYp6bBII"
      },
      "execution_count": null,
      "outputs": []
    },
    {
      "cell_type": "code",
      "source": [
        "def contains_only_digits(input_string):\n",
        "    # Use isdigit() to check if the string contains only digits\n",
        "    return input_string.isdigit()\n",
        "\n",
        "# Example usage:\n",
        "string1 = \"12345\"\n",
        "string2 = \"123abc\"\n",
        "\n",
        "result1 = contains_only_digits(string1)\n",
        "result2 = contains_only_digits(string2)\n",
        "\n",
        "print(f\"String '{string1}' contains only digits: {result1}\")\n",
        "print(f\"String '{string2}' contains only digits: {result2}\")\n"
      ],
      "metadata": {
        "id": "-oqXxijwbNlc"
      },
      "execution_count": null,
      "outputs": []
    },
    {
      "cell_type": "code",
      "source": [
        "def contains_only_alphabets(input_string):\n",
        "    # Use isalpha() to check if the string contains only alphabets\n",
        "    return input_string.isalpha()\n",
        "\n",
        "# Example usage:\n",
        "string1 = \"Hello\"\n",
        "string2 = \"Hello123\"\n",
        "\n",
        "result1 = contains_only_alphabets(string1)\n",
        "result2 = contains_only_alphabets(string2)\n",
        "\n",
        "print(f\"String '{string1}' contains only alphabets: {result1}\")\n",
        "print(f\"String '{string2}' contains only alphabets: {result2}\")\n"
      ],
      "metadata": {
        "id": "f8MorfAjbT3s"
      },
      "execution_count": null,
      "outputs": []
    },
    {
      "cell_type": "code",
      "source": [
        "def string_to_list(input_string):\n",
        "    # Use list() to convert the string to a list of characters\n",
        "    char_list = list(input_string)\n",
        "    return char_list\n",
        "\n",
        "# Example usage:\n",
        "input_str = \"Hello, World!\"\n",
        "result = string_to_list(input_str)\n",
        "\n",
        "print(\"Original String:\", input_str)\n",
        "print(\"List of Characters:\", result)\n"
      ],
      "metadata": {
        "id": "3SAvWp8MbZC9"
      },
      "execution_count": null,
      "outputs": []
    },
    {
      "cell_type": "code",
      "source": [
        "def are_anagrams(str1, str2):\n",
        "    # Use sorted() to create sorted lists of characters for each string\n",
        "    sorted_str1 = sorted(str1)\n",
        "    sorted_str2 = sorted(str2)\n",
        "\n",
        "    # Compare if the sorted lists are identical\n",
        "    return sorted_str1 == sorted_str2\n",
        "\n",
        "# Example usage:\n",
        "string1 = \"listen\"\n",
        "string2 = \"silent\"\n",
        "result = are_anagrams(string1, string2)\n",
        "\n",
        "print(f\"Are '{string1}' and '{string2}' anagrams? {result}\")\n"
      ],
      "metadata": {
        "id": "Yi2sg8YwbZxQ"
      },
      "execution_count": null,
      "outputs": []
    },
    {
      "cell_type": "code",
      "source": [
        "def caesar_cipher_encode(input_string, shift):\n",
        "    result = \"\"\n",
        "\n",
        "    for char in input_string:\n",
        "        if char.isalpha():  # Check if the character is an alphabet letter\n",
        "            # Determine whether the letter is uppercase or lowercase\n",
        "            is_upper = char.isupper()\n",
        "\n",
        "            # Apply the Caesar cipher shift\n",
        "            char_code = ord(char) + shift\n",
        "            if is_upper:\n",
        "                # Wrap around for uppercase letters\n",
        "                char = chr((char_code - ord('A')) % 26 + ord('A'))\n",
        "            else:\n",
        "                # Wrap around for lowercase letters\n",
        "                char = chr((char_code - ord('a')) % 26 + ord('a'))\n",
        "\n",
        "        result += char\n",
        "\n",
        "    return result\n",
        "\n",
        "# Example usage:\n",
        "plaintext = \"Hello, World!\"\n",
        "shift_amount = 3\n",
        "ciphertext = caesar_cipher_encode(plaintext, shift_amount)\n",
        "\n",
        "print(\"Original String:\", plaintext)\n",
        "print(f\"Caesar Cipher (Shift {shift_amount}):\", ciphertext)\n"
      ],
      "metadata": {
        "id": "aLbEUvvZbm6g"
      },
      "execution_count": null,
      "outputs": []
    },
    {
      "cell_type": "code",
      "source": [
        "def caesar_cipher_decode(input_string, shift):\n",
        "    # Decoding is the same as encoding with a negative shift\n",
        "    return caesar_cipher_encode(input_string, -shift)\n",
        "\n",
        "# Example usage:\n",
        "ciphertext = \"Khoor, Zruog!\"\n",
        "shift_amount = 3\n",
        "decoded_text = caesar_cipher_decode(ciphertext, shift_amount)\n",
        "\n",
        "print(\"Original String (Encoded):\", ciphertext)\n",
        "print(f\"Decoded String (Shift {shift_amount}):\", decoded_text)\n"
      ],
      "metadata": {
        "id": "w0AXqznEbqVg"
      },
      "execution_count": null,
      "outputs": []
    },
    {
      "cell_type": "code",
      "source": [
        "def most_frequent_word(input_string):\n",
        "    # Split the string into a list of words\n",
        "    words_list = input_string.split()\n",
        "\n",
        "    # Initialize an empty dictionary to store word frequencies\n",
        "    word_freq = {}\n",
        "\n",
        "    # Iterate through each word in the list\n",
        "    for word in words_list:\n",
        "        # Update the word frequency in the dictionary\n",
        "        word_freq[word] = word_freq.get(word, 0) + 1\n",
        "\n",
        "    # Find the word with the highest frequency\n",
        "    most_frequent = max(word_freq, key=word_freq.get)\n",
        "\n",
        "    return most_frequent\n",
        "\n",
        "# Example usage:\n",
        "input_str = \"This is a simple example. The example demonstrates the process.\"\n",
        "result = most_frequent_word(input_str)\n",
        "\n",
        "print(\"Original String:\", input_str)\n",
        "print(\"Most Frequent Word:\", result)\n"
      ],
      "metadata": {
        "id": "5AaS7857b2Xk"
      },
      "execution_count": null,
      "outputs": []
    },
    {
      "cell_type": "code",
      "source": [
        "def unique_words(input_string):\n",
        "    # Split the string into a list of words\n",
        "    words_list = input_string.split()\n",
        "\n",
        "    # Use a set to store unique words\n",
        "    unique_words_set = set(words_list)\n",
        "\n",
        "    return unique_words_set\n",
        "\n",
        "# Example usage:\n",
        "input_str = \"This is a simple example. The example demonstrates the process.\"\n",
        "result = unique_words(input_str)\n",
        "\n",
        "print(\"Original String:\", input_str)\n",
        "print(\"Unique Words:\", result)\n"
      ],
      "metadata": {
        "id": "XZup_uu8b7Xr"
      },
      "execution_count": null,
      "outputs": []
    },
    {
      "cell_type": "code",
      "source": [
        "def count_syllables(input_string):\n",
        "    # A basic heuristic: count the number of vowels (excluding consecutive vowels)\n",
        "    vowels = \"aeiouAEIOU\"\n",
        "    syllable_count = 0\n",
        "    consecutive_vowel = False\n",
        "\n",
        "    for char in input_string:\n",
        "        if char in vowels:\n",
        "            # Count the first vowel in a sequence of consecutive vowels\n",
        "            if not consecutive_vowel:\n",
        "                syllable_count += 1\n",
        "            consecutive_vowel = True\n",
        "        else:\n",
        "            consecutive_vowel = False\n",
        "\n",
        "    return syllable_count\n",
        "\n",
        "# Example usage:\n",
        "input_str = \"Hello, World! This is an example sentence.\"\n",
        "result = count_syllables(input_str)\n",
        "\n",
        "print(\"Original String:\", input_str)\n",
        "print(\"Number of Syllables:\", result)\n"
      ],
      "metadata": {
        "id": "9uph177xcB7d"
      },
      "execution_count": null,
      "outputs": []
    },
    {
      "cell_type": "markdown",
      "source": [
        "List Based Practice Problem :"
      ],
      "metadata": {
        "id": "B0-8oJXbcgTC"
      }
    },
    {
      "cell_type": "code",
      "source": [
        "# Using range() to create a range of integers from 1 to 10 (inclusive)\n",
        "integer_list = list(range(1, 11))\n",
        "\n",
        "print(\"List of Integers from 1 to 10:\", integer_list)\n"
      ],
      "metadata": {
        "id": "7qcnm9FKchTe"
      },
      "execution_count": null,
      "outputs": []
    },
    {
      "cell_type": "code",
      "source": [
        "def find_length(input_list):\n",
        "    # Initialize a counter for the elements in the list\n",
        "    length = 0\n",
        "\n",
        "    # Iterate through the list and increment the counter\n",
        "    for _ in input_list:\n",
        "        length += 1\n",
        "\n",
        "    return length\n",
        "\n",
        "# Example usage:\n",
        "my_list = [1, 2, 3, 4, 5]\n",
        "length_of_list = find_length(my_list)\n",
        "\n",
        "print(\"Original List:\", my_list)\n",
        "print(\"Length of List:\", length_of_list)\n"
      ],
      "metadata": {
        "id": "JigtHbjNaHYt"
      },
      "execution_count": null,
      "outputs": []
    },
    {
      "cell_type": "code",
      "source": [
        "# Create a list\n",
        "my_list = [1, 2, 3, 4, 5]\n",
        "\n",
        "# Append an element to the end of the list\n",
        "my_list.append(6)\n",
        "\n",
        "# Print the updated list\n",
        "print(\"Updated List:\", my_list)\n"
      ],
      "metadata": {
        "id": "bKlwIWbyahJz"
      },
      "execution_count": null,
      "outputs": []
    },
    {
      "cell_type": "code",
      "source": [
        "# Create a list\n",
        "my_list = [1, 2, 3, 4, 5]\n",
        "\n",
        "# Insert an element at a specific index (e.g., index 2)\n",
        "my_list.insert(2, 10)\n",
        "\n",
        "# Print the updated list\n",
        "print(\"Updated List:\", my_list)\n"
      ],
      "metadata": {
        "id": "TQuwVHQUbB2C"
      },
      "execution_count": null,
      "outputs": []
    },
    {
      "cell_type": "code",
      "source": [
        "# Create a list\n",
        "my_list = [1, 2, 3, 4, 5]\n",
        "\n",
        "# Remove an element by its value (e.g., remove the element 3)\n",
        "my_list.remove(3)\n",
        "\n",
        "# Print the updated list\n",
        "print(\"Updated List:\", my_list)\n"
      ],
      "metadata": {
        "id": "EGAXBgfBbKXx"
      },
      "execution_count": null,
      "outputs": []
    },
    {
      "cell_type": "code",
      "source": [
        "# Create a list\n",
        "my_list = [1, 2, 3, 4, 5]\n",
        "\n",
        "# Remove an element by its index (e.g., remove the element at index 2)\n",
        "removed_element = my_list.pop(2)\n",
        "\n",
        "# Print the updated list and the removed element\n",
        "print(\"Updated List:\", my_list)\n",
        "print(\"Removed Element:\", removed_element)\n"
      ],
      "metadata": {
        "id": "V5Ah8pRFcHh_"
      },
      "execution_count": null,
      "outputs": []
    },
    {
      "cell_type": "code",
      "source": [
        "# Create a list\n",
        "my_list = [1, 2, 3, 4, 5]\n",
        "\n",
        "# Check if an element exists in the list (e.g., check if 3 is in the list)\n",
        "element_to_check = 3\n",
        "exists_in_list = element_to_check in my_list\n",
        "\n",
        "# Print the result\n",
        "print(f\"Does {element_to_check} exist in the list? {exists_in_list}\")\n"
      ],
      "metadata": {
        "id": "xzwbrtOscQW_"
      },
      "execution_count": null,
      "outputs": []
    },
    {
      "cell_type": "code",
      "source": [
        "# Create a list\n",
        "my_list = [1, 2, 3, 4, 5, 3]\n",
        "\n",
        "# Find the index of the first occurrence of an element (e.g., find the index of 3)\n",
        "element_to_find = 3\n",
        "\n",
        "try:\n",
        "    index_of_element = my_list.index(element_to_find)\n",
        "    print(f\"The index of the first occurrence of {element_to_find} is: {index_of_element}\")\n",
        "except ValueError:\n",
        "    print(f\"{element_to_find} is not in the list.\")\n"
      ],
      "metadata": {
        "id": "Sn8ENBj-dHat"
      },
      "execution_count": null,
      "outputs": []
    },
    {
      "cell_type": "code",
      "source": [
        "# Create a list\n",
        "my_list = [1, 2, 3, 4, 5]\n",
        "\n",
        "# Reverse the order of elements using reverse()\n",
        "my_list.reverse()\n",
        "\n",
        "# Print the reversed list\n",
        "print(\"Reversed List:\", my_list)\n"
      ],
      "metadata": {
        "id": "TsUZVEkQdhvd"
      },
      "execution_count": null,
      "outputs": []
    },
    {
      "cell_type": "code",
      "source": [
        "# Using sort() method:\n",
        "\n",
        "# Create a list\n",
        "my_list = [4, 2, 7, 1, 5]\n",
        "\n",
        "# Sort the list in ascending order using sort()\n",
        "my_list.sort()\n",
        "\n",
        "# Print the sorted list\n",
        "print(\"Sorted List in Ascending Order:\", my_list)\n"
      ],
      "metadata": {
        "id": "yTG1E3mGe3pi"
      },
      "execution_count": null,
      "outputs": []
    },
    {
      "cell_type": "code",
      "source": [
        "# Create a list\n",
        "my_list = [4, 2, 7, 1, 5]\n",
        "\n",
        "# Sort the list in descending order using sort()\n",
        "my_list.sort(reverse=True)\n",
        "\n",
        "# Print the sorted list\n",
        "print(\"Sorted List in Descending Order:\", my_list)\n"
      ],
      "metadata": {
        "id": "r2S1SehLfpPa"
      },
      "execution_count": null,
      "outputs": []
    },
    {
      "cell_type": "code",
      "source": [
        "# Create a list of even numbers from 1 to 20\n",
        "even_numbers_list = [num for num in range(2, 21, 2)]\n",
        "\n",
        "print(\"List of Even Numbers from 1 to 20:\", even_numbers_list)\n"
      ],
      "metadata": {
        "id": "5kCFtUdNgpp6"
      },
      "execution_count": null,
      "outputs": []
    },
    {
      "cell_type": "code",
      "source": [
        "# Create a list of odd numbers from 1 to 20\n",
        "odd_numbers_list = [num for num in range(1, 21, 2)]\n",
        "\n",
        "print(\"List of Odd Numbers from 1 to 20:\", odd_numbers_list)\n"
      ],
      "metadata": {
        "id": "a0tGz6jHg0dX"
      },
      "execution_count": null,
      "outputs": []
    },
    {
      "cell_type": "code",
      "source": [
        "# Create a list\n",
        "my_list = [1, 2, 3, 4, 5]\n",
        "\n",
        "# Find the sum of all elements in the list using sum()\n",
        "sum_of_elements = sum(my_list)\n",
        "\n",
        "print(\"List:\", my_list)\n",
        "print(\"Sum of Elements:\", sum_of_elements)\n"
      ],
      "metadata": {
        "id": "c4qwMuCzhAI5"
      },
      "execution_count": null,
      "outputs": []
    },
    {
      "cell_type": "code",
      "source": [
        "# Create a list\n",
        "my_list = [1, 6, 3, 8, 2, 7, 5]\n",
        "\n",
        "# Find the maximum value in the list using max()\n",
        "max_value = max(my_list)\n",
        "\n",
        "print(\"List:\", my_list)\n",
        "print(\"Maximum Value:\", max_value)\n"
      ],
      "metadata": {
        "id": "q1ubgymFhYq5"
      },
      "execution_count": null,
      "outputs": []
    },
    {
      "cell_type": "code",
      "source": [
        "# Create a list\n",
        "my_list = [1, 6, 3, 8, 2, 7, 5]\n",
        "\n",
        "# Find the minimum value in the list using min()\n",
        "min_value = min(my_list)\n",
        "\n",
        "print(\"List:\", my_list)\n",
        "print(\"Minimum Value:\", min_value)\n"
      ],
      "metadata": {
        "id": "5Gw_8xyIhvtt"
      },
      "execution_count": null,
      "outputs": []
    },
    {
      "cell_type": "code",
      "source": [
        "# Create a list of squares of numbers from 1 to 10\n",
        "squares_list = [num ** 2 for num in range(1, 11)]\n",
        "\n",
        "print(\"List of Squares from 1 to 10:\", squares_list)\n"
      ],
      "metadata": {
        "id": "ie2ZtEmjh7jt"
      },
      "execution_count": null,
      "outputs": []
    },
    {
      "cell_type": "code",
      "source": [
        "import random\n",
        "\n",
        "# Create a list of 5 random numbers between 1 and 100\n",
        "random_numbers = [random.randint(1, 100) for _ in range(5)]\n",
        "\n",
        "print(\"List of Random Numbers:\", random_numbers)\n"
      ],
      "metadata": {
        "id": "Lc1SBrcFiei1"
      },
      "execution_count": null,
      "outputs": []
    },
    {
      "cell_type": "code",
      "source": [
        "# Create a list with duplicates\n",
        "my_list = [1, 2, 3, 2, 4, 5, 6, 5, 7]\n",
        "\n",
        "# Remove duplicates by converting the list to a set and back to a list\n",
        "unique_list = list(set(my_list))\n",
        "\n",
        "print(\"Original List:\", my_list)\n",
        "print(\"List with Duplicates Removed:\", unique_list)\n"
      ],
      "metadata": {
        "id": "aCVTrtv2igA-"
      },
      "execution_count": null,
      "outputs": []
    },
    {
      "cell_type": "code",
      "source": [
        "# Create two lists\n",
        "list1 = [1, 2, 3, 4, 5]\n",
        "list2 = [3, 4, 5, 6, 7]\n",
        "\n",
        "# Find common elements using set intersection\n",
        "common_elements_set = set(list1) & set(list2)\n",
        "\n",
        "# Convert the set to a list if needed\n",
        "common_elements_list = list(common_elements_set)\n",
        "\n",
        "print(\"List 1:\", list1)\n",
        "print(\"List 2:\", list2)\n",
        "print(\"Common Elements:\", common_elements_list)\n"
      ],
      "metadata": {
        "id": "U8Whwn9hkwdR"
      },
      "execution_count": null,
      "outputs": []
    },
    {
      "cell_type": "code",
      "source": [
        "# Create two lists\n",
        "list1 = [1, 2, 3, 4, 5]\n",
        "list2 = [3, 4, 5, 6, 7]\n",
        "\n",
        "# Find the difference using set operations\n",
        "difference_set1 = set(list1) - set(list2)\n",
        "difference_set2 = set(list2) - set(list1)\n",
        "\n",
        "# Convert the sets to lists if needed\n",
        "difference_list1 = list(difference_set1)\n",
        "difference_list2 = list(difference_set2)\n",
        "\n",
        "print(\"List 1:\", list1)\n",
        "print(\"List 2:\", list2)\n",
        "print(\"Difference from List 1 to List 2:\", difference_list1)\n",
        "print(\"Difference from List 2 to List 1:\", difference_list2)\n"
      ],
      "metadata": {
        "id": "LdyvahK8lHAL"
      },
      "execution_count": null,
      "outputs": []
    },
    {
      "cell_type": "code",
      "source": [
        "# Create a list\n",
        "my_list = [1, 2, 3, 4, 5]\n",
        "\n",
        "# Multiply all elements in the list by 2 using a list comprehension\n",
        "doubled_list = [element * 2 for element in my_list]\n",
        "\n",
        "print(\"Original List:\", my_list)\n",
        "print(\"Doubled List:\", doubled_list)\n"
      ],
      "metadata": {
        "id": "ENBc2OwUmDP5"
      },
      "execution_count": null,
      "outputs": []
    },
    {
      "cell_type": "code",
      "source": [
        "# Create a list\n",
        "my_list = [1, 2, 3, 4, 5, 6, 7, 8, 9, 10]\n",
        "\n",
        "# Filter out all even numbers using a list comprehension\n",
        "filtered_list = [num for num in my_list if num % 2 != 0]\n",
        "\n",
        "print(\"Original List:\", my_list)\n",
        "print(\"Filtered List (No Even Numbers):\", filtered_list)\n"
      ],
      "metadata": {
        "id": "luX6X8U8zaIu"
      },
      "execution_count": null,
      "outputs": []
    },
    {
      "cell_type": "code",
      "source": [
        "# Create a list of strings\n",
        "string_list = [\"1\", \"2\", \"3\", \"4\", \"5\"]\n",
        "\n",
        "# Convert the list of strings to a list of integers using a list comprehension\n",
        "integer_list = [int(element) for element in string_list]\n",
        "\n",
        "print(\"Original List of Strings:\", string_list)\n",
        "print(\"Converted List of Integers:\", integer_list)\n"
      ],
      "metadata": {
        "id": "DaS1rDX0zl8b"
      },
      "execution_count": null,
      "outputs": []
    },
    {
      "cell_type": "code",
      "source": [
        "# Create a list of integers\n",
        "integer_list = [1, 2, 3, 4, 5]\n",
        "\n",
        "# Convert the list of integers to a list of strings using a list comprehension\n",
        "string_list = [str(element) for element in integer_list]\n",
        "\n",
        "print(\"Original List of Integers:\", integer_list)\n",
        "print(\"Converted List of Strings:\", string_list)\n"
      ],
      "metadata": {
        "id": "KFd3LZYQzsqE"
      },
      "execution_count": null,
      "outputs": []
    },
    {
      "cell_type": "code",
      "source": [
        "# Define a nested list\n",
        "nested_list = [1, [2, [3, 4], 5], 6, [7, 8]]\n",
        "\n",
        "# Recursive function to flatten a nested list\n",
        "def flatten_list(nested):\n",
        "    flattened = []\n",
        "    for element in nested:\n",
        "        if isinstance(element, list):\n",
        "            flattened.extend(flatten_list(element))\n",
        "        else:\n",
        "            flattened.append(element)\n",
        "    return flattened\n",
        "\n",
        "# Flatten the nested list\n",
        "flat_list = flatten_list(nested_list)\n",
        "\n",
        "print(\"Original Nested List:\", nested_list)\n",
        "print(\"Flattened List:\", flat_list)\n"
      ],
      "metadata": {
        "id": "syt4lsIyzzvV"
      },
      "execution_count": null,
      "outputs": []
    },
    {
      "cell_type": "code",
      "source": [
        "# Function to check if a number is prime\n",
        "def is_prime(num):\n",
        "    if num < 2:\n",
        "        return False\n",
        "    for i in range(2, int(num**0.5) + 1):\n",
        "        if num % i == 0:\n",
        "            return False\n",
        "    return True\n",
        "\n",
        "# Create a list of prime numbers up to 50\n",
        "prime_numbers = [num for num in range(2, 51) if is_prime(num)]\n",
        "\n",
        "print(\"List of Prime Numbers up to 50:\", prime_numbers)\n"
      ],
      "metadata": {
        "id": "d0Pce5CXz-AC"
      },
      "execution_count": null,
      "outputs": []
    },
    {
      "cell_type": "code",
      "source": [
        "# Function to split a list into chunks of size n\n",
        "def chunk_list(input_list, chunk_size):\n",
        "    for i in range(0, len(input_list), chunk_size):\n",
        "        yield input_list[i:i + chunk_size]\n",
        "\n",
        "# Example usage\n",
        "my_list = [1, 2, 3, 4, 5, 6, 7, 8, 9, 10]\n",
        "chunk_size = 3\n",
        "\n",
        "# Split the list into chunks\n",
        "chunked_list = list(chunk_list(my_list, chunk_size))\n",
        "\n",
        "print(\"Original List:\", my_list)\n",
        "print(f\"List Split into Chunks of Size {chunk_size}:\", chunked_list)\n"
      ],
      "metadata": {
        "id": "KjOgCPxo0GOe"
      },
      "execution_count": null,
      "outputs": []
    },
    {
      "cell_type": "code",
      "source": [
        "# Create a list of numbers\n",
        "number_list = [10, 5, 8, 20, 15, 7]\n",
        "\n",
        "# Find the second largest number\n",
        "sorted_numbers = sorted(number_list, reverse=True)\n",
        "\n",
        "# Check if there is a second largest number\n",
        "if len(sorted_numbers) >= 2:\n",
        "    second_largest = sorted_numbers[1]\n",
        "    print(\"Original List:\", number_list)\n",
        "    print(\"Second Largest Number:\", second_largest)\n",
        "else:\n",
        "    print(\"Not enough elements to find the second largest number.\")\n"
      ],
      "metadata": {
        "id": "loS4sH8V0Ma6"
      },
      "execution_count": null,
      "outputs": []
    },
    {
      "cell_type": "code",
      "source": [
        "# Create a list of numbers\n",
        "number_list = [1, 2, 3, 4, 5]\n",
        "\n",
        "# Replace every element with its square using a list comprehension\n",
        "squared_list = [num ** 2 for num in number_list]\n",
        "\n",
        "print(\"Original List:\", number_list)\n",
        "print(\"List with Elements Replaced by Their Squares:\", squared_list)\n"
      ],
      "metadata": {
        "id": "BrvI-XZK0TM6"
      },
      "execution_count": null,
      "outputs": []
    },
    {
      "cell_type": "code",
      "source": [
        "# Create a list\n",
        "my_list = ['apple', 'banana', 'orange', 'grape']\n",
        "\n",
        "# Convert the list to a dictionary using a dictionary comprehension\n",
        "my_dict = {element: index for index, element in enumerate(my_list)}\n",
        "\n",
        "print(\"Original List:\", my_list)\n",
        "print(\"Dictionary with Elements as Keys and Indices as Values:\", my_dict)\n"
      ],
      "metadata": {
        "id": "jI_IL2SF0aub"
      },
      "execution_count": null,
      "outputs": []
    },
    {
      "cell_type": "code",
      "source": [
        "import random\n",
        "\n",
        "# Create a list\n",
        "my_list = [1, 2, 3, 4, 5]\n",
        "\n",
        "# Shuffle the list randomly\n",
        "random.shuffle(my_list)\n",
        "\n",
        "print(\"Original List:\", my_list)\n"
      ],
      "metadata": {
        "id": "FC5odK1o0hNs"
      },
      "execution_count": null,
      "outputs": []
    },
    {
      "cell_type": "code",
      "source": [
        "# Function to calculate the factorial of a number\n",
        "def factorial(n):\n",
        "    if n == 0 or n == 1:\n",
        "        return 1\n",
        "    else:\n",
        "        return n * factorial(n - 1)\n",
        "\n",
        "# Create a list of the first 10 factorial numbers\n",
        "factorial_numbers = [factorial(i) for i in range(10)]\n",
        "\n",
        "print(\"List of the First 10 Factorial Numbers:\", factorial_numbers)\n"
      ],
      "metadata": {
        "id": "_f1PLL6p0m5T"
      },
      "execution_count": null,
      "outputs": []
    },
    {
      "cell_type": "code",
      "source": [
        "# Create a list\n",
        "my_list = [1, 2, 3, 4, 5]\n",
        "\n",
        "# Remove all elements from the list using the clear() method\n",
        "my_list.clear()\n",
        "\n",
        "print(\"List after clearing:\", my_list)\n"
      ],
      "metadata": {
        "id": "ikMTv41N0wLL"
      },
      "execution_count": null,
      "outputs": []
    },
    {
      "cell_type": "code",
      "source": [
        "# Create a list\n",
        "my_list = [1, -2, 3, -4, 5, -6]\n",
        "\n",
        "# Replace negative numbers with 0 using a list comprehension\n",
        "modified_list = [max(0, num) for num in my_list]\n",
        "\n",
        "print(\"Original List:\", my_list)\n",
        "print(\"List with Negative Numbers Replaced by 0:\", modified_list)\n"
      ],
      "metadata": {
        "id": "MVc2YkBU02Bx"
      },
      "execution_count": null,
      "outputs": []
    },
    {
      "cell_type": "code",
      "source": [
        "# Create a string\n",
        "my_string = \"This is a sample sentence.\"\n",
        "\n",
        "# Convert the string into a list of words using the split() method\n",
        "word_list = my_string.split()\n",
        "\n",
        "print(\"Original String:\", my_string)\n",
        "print(\"List of Words:\", word_list)\n"
      ],
      "metadata": {
        "id": "lUQc45Hz096Q"
      },
      "execution_count": null,
      "outputs": []
    },
    {
      "cell_type": "code",
      "source": [
        "# Create a list of strings\n",
        "string_list = [\"apple\", \"banana\", \"orange\", \"grapefruit\", \"kiwi\"]\n",
        "\n",
        "# Find the longest string using the max() function\n",
        "longest_string = max(string_list, key=len)\n",
        "\n",
        "print(\"List of Strings:\", string_list)\n",
        "print(\"Longest String:\", longest_string)\n"
      ],
      "metadata": {
        "id": "hirOrUcf1HNS"
      },
      "execution_count": null,
      "outputs": []
    },
    {
      "cell_type": "code",
      "source": [
        "def is_subsequence(main_list, subsequence):\n",
        "    main_len = len(main_list)\n",
        "    sub_len = len(subsequence)\n",
        "\n",
        "    if sub_len == 0:\n",
        "        return True  # An empty list is always a subsequence\n",
        "\n",
        "    if sub_len > main_len:\n",
        "        return False  # If the subsequence is longer, it can't be a subsequence\n",
        "\n",
        "    # Iterate through the main list\n",
        "    main_index = 0\n",
        "    for element in main_list:\n",
        "        if element == subsequence[0]:\n",
        "            main_index += 1\n",
        "            sub_index = 1\n",
        "            while sub_index < sub_len and main_index < main_len:\n",
        "                if main_list[main_index] == subsequence[sub_index]:\n",
        "                    sub_index += 1\n",
        "                main_index += 1\n",
        "            if sub_index == sub_len:\n",
        "                return True  # Found the subsequence in the main list\n",
        "\n",
        "    return False  # Subsequence not found\n",
        "\n",
        "# Example usage\n",
        "main_list = [1, 2, 3, 4, 5, 6, 7, 8]\n",
        "subsequence = [3, 5, 7]\n",
        "\n",
        "result = is_subsequence(main_list, subsequence)\n",
        "print(f\"Is {subsequence} a subsequence of {main_list}? {result}\")\n"
      ],
      "metadata": {
        "id": "aELH952w1RMg"
      },
      "execution_count": null,
      "outputs": []
    },
    {
      "cell_type": "code",
      "source": [
        "# Create a list\n",
        "my_list = [1, 2, 3, 4, 5]\n",
        "\n",
        "# Define indices to swap\n",
        "index1, index2 = 1, 3\n",
        "\n",
        "# Swap the elements at the specified indices\n",
        "my_list[index1], my_list[index2] = my_list[index2], my_list[index1]\n",
        "\n",
        "print(\"Original List:\", my_list)\n"
      ],
      "metadata": {
        "id": "hzXJpn441Y9k"
      },
      "execution_count": null,
      "outputs": []
    },
    {
      "cell_type": "markdown",
      "source": [
        "Tuple Based Practice Problem :"
      ],
      "metadata": {
        "id": "7f1DUT0pwnh3"
      }
    },
    {
      "cell_type": "code",
      "source": [
        "# Create a tuple with integers from 1 to 5\n",
        "my_tuple = (1, 2, 3, 4, 5)\n",
        "\n",
        "# Print the tuple\n",
        "print(my_tuple)\n"
      ],
      "metadata": {
        "id": "7X5e59u6wpN8"
      },
      "execution_count": null,
      "outputs": []
    },
    {
      "cell_type": "code",
      "source": [
        "# Create a tuple\n",
        "my_tuple = (10, 20, 30, 40, 50)\n",
        "\n",
        "# Access the third element (at index 2) of the tuple\n",
        "third_element = my_tuple[2]\n",
        "\n",
        "# Print the result\n",
        "print(\"Third Element:\", third_element)\n"
      ],
      "metadata": {
        "id": "kJx0hg2lxH1f"
      },
      "execution_count": null,
      "outputs": []
    },
    {
      "cell_type": "code",
      "source": [
        "# Create a tuple\n",
        "my_tuple = (10, 20, 30, 40, 50)\n",
        "\n",
        "# Find the length of the tuple without using len()\n",
        "tuple_length = 0\n",
        "for _ in my_tuple:\n",
        "    tuple_length += 1\n",
        "\n",
        "# Print the result\n",
        "print(\"Length of the Tuple:\", tuple_length)\n"
      ],
      "metadata": {
        "id": "cjveIsU-xIqj"
      },
      "execution_count": null,
      "outputs": []
    },
    {
      "cell_type": "code",
      "source": [
        "# Create a tuple\n",
        "my_tuple = (1, 2, 3, 1, 4, 1, 5, 1)\n",
        "\n",
        "# Count the occurrences of a specific element (e.g., 1)\n",
        "element_to_count = 1\n",
        "occurrences_count = my_tuple.count(element_to_count)\n",
        "\n",
        "# Print the result\n",
        "print(f\"Occurrences of {element_to_count} in the tuple: {occurrences_count}\")\n"
      ],
      "metadata": {
        "id": "7IRjLjnRxaVs"
      },
      "execution_count": null,
      "outputs": []
    },
    {
      "cell_type": "code",
      "source": [
        "# Create a tuple\n",
        "my_tuple = (1, 2, 3, 4, 5)\n",
        "\n",
        "# Check if a specific element (e.g., 3) exists in the tuple\n",
        "element_to_check = 3\n",
        "exists = element_to_check in my_tuple\n",
        "\n",
        "# Print the result\n",
        "print(f\"Does {element_to_check} exist in the tuple? {exists}\")\n"
      ],
      "metadata": {
        "id": "p44q96Cqx5Q9"
      },
      "execution_count": null,
      "outputs": []
    },
    {
      "cell_type": "code",
      "source": [
        "# Create a tuple\n",
        "my_tuple = (1, 2, 3, 4, 5)\n",
        "\n",
        "# Convert the tuple to a list\n",
        "my_list = list(my_tuple)\n",
        "\n",
        "# Print the result\n",
        "print(\"Tuple:\", my_tuple)\n",
        "print(\"List:\", my_list)\n"
      ],
      "metadata": {
        "id": "iG5HtICbyAa8"
      },
      "execution_count": null,
      "outputs": []
    },
    {
      "cell_type": "code",
      "source": [
        "# Create a tuple\n",
        "my_tuple = (10, 20, 30)\n",
        "\n",
        "# Unpack the elements into variables\n",
        "var1, var2, var3 = my_tuple\n",
        "\n",
        "# Print the unpacked variables\n",
        "print(\"Variable 1:\", var1)\n",
        "print(\"Variable 2:\", var2)\n",
        "print(\"Variable 3:\", var3)\n"
      ],
      "metadata": {
        "id": "901dcMaDyUUL"
      },
      "execution_count": null,
      "outputs": []
    },
    {
      "cell_type": "code",
      "source": [
        "# Create a tuple of even numbers from 1 to 10\n",
        "even_numbers_tuple = tuple(x for x in range(2, 11, 2))\n",
        "\n",
        "# Print the result\n",
        "print(\"Tuple of Even Numbers:\", even_numbers_tuple)\n"
      ],
      "metadata": {
        "id": "Md_jy_-KygtR"
      },
      "execution_count": null,
      "outputs": []
    },
    {
      "cell_type": "code",
      "source": [
        "# Create two tuples\n",
        "tuple1 = (1, 2, 3)\n",
        "tuple2 = (4, 5, 6)\n",
        "\n",
        "# Concatenate the two tuples\n",
        "concatenated_tuple = tuple1 + tuple2\n",
        "\n",
        "# Print the result\n",
        "print(\"Tuple 1:\", tuple1)\n",
        "print(\"Tuple 2:\", tuple2)\n",
        "print(\"Concatenated Tuple:\", concatenated_tuple)\n"
      ],
      "metadata": {
        "id": "R0fBdptcy26Y"
      },
      "execution_count": null,
      "outputs": []
    },
    {
      "cell_type": "code",
      "source": [
        "# Create an empty tuple\n",
        "empty_tuple = ()\n",
        "\n",
        "# Check if the tuple is empty\n",
        "is_empty = not empty_tuple\n",
        "\n",
        "# Print the result\n",
        "print(\"Is the tuple empty?\", is_empty)\n"
      ],
      "metadata": {
        "id": "qEq9qZKSzJCk"
      },
      "execution_count": null,
      "outputs": []
    },
    {
      "cell_type": "code",
      "source": [
        "# Create a nested tuple\n",
        "nested_tuple = ((1, 2, 3), ('a', 'b', 'c'), (True, False))\n",
        "\n",
        "# Print the nested tuple\n",
        "print(\"Nested Tuple:\", nested_tuple)\n"
      ],
      "metadata": {
        "id": "m6Fvg5-lzPNG"
      },
      "execution_count": null,
      "outputs": []
    },
    {
      "cell_type": "code",
      "source": [
        "# Create a tuple with a single element\n",
        "single_element_tuple = (42,)\n",
        "\n",
        "# Print the tuple\n",
        "print(\"Single Element Tuple:\", single_element_tuple)\n"
      ],
      "metadata": {
        "id": "zm4oTQl0zX6J"
      },
      "execution_count": null,
      "outputs": []
    },
    {
      "cell_type": "code",
      "source": [
        "# Create a tuple\n",
        "my_tuple = (1, 2, 3, 4, 5)\n",
        "\n",
        "# Print the original tuple\n",
        "print(\"Original Tuple:\", my_tuple)\n",
        "\n",
        "# Delete the entire tuple\n",
        "del my_tuple\n",
        "\n",
        "# Try to print the tuple after deletion (will raise an error)\n",
        "try:\n",
        "    print(\"Tuple after Deletion:\", my_tuple)\n",
        "except NameError as e:\n",
        "    print(\"Error:\", e)\n"
      ],
      "metadata": {
        "id": "g6Q83NvczkI5"
      },
      "execution_count": null,
      "outputs": []
    },
    {
      "cell_type": "code",
      "source": [
        "# Create a string\n",
        "my_string = \"hello\"\n",
        "\n",
        "# Convert the string to a tuple of characters\n",
        "char_tuple = tuple(my_string)\n",
        "\n",
        "# Print the result\n",
        "print(\"String:\", my_string)\n",
        "print(\"Tuple of Characters:\", char_tuple)\n"
      ],
      "metadata": {
        "id": "1KO8JzWfzsG5"
      },
      "execution_count": null,
      "outputs": []
    },
    {
      "cell_type": "code",
      "source": [
        "# Create a tuple with elements of multiple data types\n",
        "mixed_tuple = (1, \"hello\", 3.14, True, [5, 6, 7])\n",
        "\n",
        "# Print the tuple\n",
        "print(\"Mixed Tuple:\", mixed_tuple)\n"
      ],
      "metadata": {
        "id": "vq4CRIU_zzHa"
      },
      "execution_count": null,
      "outputs": []
    },
    {
      "cell_type": "code",
      "source": [
        "# Create two tuples\n",
        "tuple1 = (1, 2, 3)\n",
        "tuple2 = ('a', 'b', 'c')\n",
        "\n",
        "# Merge the two tuples\n",
        "merged_tuple = tuple1 + tuple2\n",
        "\n",
        "# Print the result\n",
        "print(\"Tuple 1:\", tuple1)\n",
        "print(\"Tuple 2:\", tuple2)\n",
        "print(\"Merged Tuple:\", merged_tuple)\n"
      ],
      "metadata": {
        "id": "05DoZOM_0C9u"
      },
      "execution_count": null,
      "outputs": []
    },
    {
      "cell_type": "code",
      "source": [
        "# Create a tuple of the first 5 prime numbers\n",
        "prime_numbers_tuple = (2, 3, 5, 7, 11)\n",
        "\n",
        "# Print the result\n",
        "print(\"Tuple of Prime Numbers:\", prime_numbers_tuple)\n"
      ],
      "metadata": {
        "id": "4QOIgtLH0KSh"
      },
      "execution_count": null,
      "outputs": []
    },
    {
      "cell_type": "code",
      "source": [
        "# Create a tuple\n",
        "original_tuple = (1, 2, 3, 4, 5)\n",
        "\n",
        "# Multiply all elements by 2 using a tuple comprehension\n",
        "multiplied_tuple = tuple(x * 2 for x in original_tuple)\n",
        "\n",
        "# Print the results\n",
        "print(\"Original Tuple:\", original_tuple)\n",
        "print(\"Multiplied Tuple:\", multiplied_tuple)\n"
      ],
      "metadata": {
        "id": "b18PgShS0Vbf"
      },
      "execution_count": null,
      "outputs": []
    },
    {
      "cell_type": "code",
      "source": [
        "import random\n",
        "\n",
        "# Create a tuple of random numbers\n",
        "random_numbers_tuple = tuple(random.uniform(0, 1) for _ in range(5))\n",
        "\n",
        "# Print the result\n",
        "print(\"Tuple of Random Numbers:\", random_numbers_tuple)\n"
      ],
      "metadata": {
        "id": "2qgr8K970eEn"
      },
      "execution_count": null,
      "outputs": []
    },
    {
      "cell_type": "code",
      "source": [
        "# Get user input for elements separated by spaces\n",
        "user_input = input(\"Enter elements separated by spaces: \")\n",
        "\n",
        "# Convert the input string into a tuple\n",
        "user_tuple = tuple(map(int, user_input.split()))\n",
        "\n",
        "# Print the result\n",
        "print(\"User Input Tuple:\", user_tuple)\n"
      ],
      "metadata": {
        "id": "VAo98J_Z0rMM"
      },
      "execution_count": null,
      "outputs": []
    },
    {
      "cell_type": "code",
      "source": [
        "# Create a tuple of strings\n",
        "string_tuple = (\"apple\", \"banana\", \"grape\", \"kiwi\", \"strawberry\")\n",
        "\n",
        "# Find the longest string using the max function and len as the key function\n",
        "longest_string = max(string_tuple, key=len)\n",
        "\n",
        "# Print the result\n",
        "print(\"Longest String:\", longest_string)\n"
      ],
      "metadata": {
        "id": "YhkNK4Fd02uV"
      },
      "execution_count": null,
      "outputs": []
    },
    {
      "cell_type": "code",
      "source": [
        "def is_subsequence(subsequence, main_sequence):\n",
        "    # Find the length of the subsequence\n",
        "    sub_len = len(subsequence)\n",
        "\n",
        "    # Iterate through the main sequence\n",
        "    for i in range(len(main_sequence) - sub_len + 1):\n",
        "        # Check if the subsequence is present at this position\n",
        "        if main_sequence[i:i + sub_len] == subsequence:\n",
        "            return True\n",
        "\n",
        "    # Subsequence not found\n",
        "    return False\n",
        "\n",
        "# Example usage\n",
        "main_tuple = (1, 2, 3, 4, 5, 6, 7, 8, 9)\n",
        "sub_tuple = (3, 4, 5)\n",
        "\n",
        "# Check if sub_tuple is a subsequence of main_tuple\n",
        "result = is_subsequence(sub_tuple, main_tuple)\n",
        "\n",
        "# Print the result\n",
        "print(\"Is sub_tuple a subsequence of main_tuple?\", result)\n"
      ],
      "metadata": {
        "id": "FVhocD3k1D7t"
      },
      "execution_count": null,
      "outputs": []
    },
    {
      "cell_type": "markdown",
      "source": [
        "Set Based Practice Problem :"
      ],
      "metadata": {
        "id": "JEVJrSz31XwH"
      }
    },
    {
      "cell_type": "code",
      "source": [
        "# Create a set with integers from 1 to 5\n",
        "my_set = {1, 2, 3, 4, 5}\n",
        "\n",
        "# Print the set\n",
        "print(\"Set:\", my_set)\n"
      ],
      "metadata": {
        "id": "KS2ipPYj1F2Q"
      },
      "execution_count": null,
      "outputs": []
    },
    {
      "cell_type": "code",
      "source": [
        "# Create a set\n",
        "my_set = {1, 2, 3, 4, 5}\n",
        "\n",
        "# Add an element (e.g., 6) to the set\n",
        "my_set.add(6)\n",
        "\n",
        "# Print the updated set\n",
        "print(\"Updated Set:\", my_set)\n"
      ],
      "metadata": {
        "id": "1GiLcwN52Bkr"
      },
      "execution_count": null,
      "outputs": []
    },
    {
      "cell_type": "code",
      "source": [
        "# Create a set\n",
        "my_set = {1, 2, 3, 4, 5}\n",
        "\n",
        "# Remove an element (e.g., 3) from the set using remove()\n",
        "my_set.remove(3)\n",
        "\n",
        "# Print the updated set\n",
        "print(\"Updated Set:\", my_set)\n"
      ],
      "metadata": {
        "id": "mRFo2ITg2Rs7"
      },
      "execution_count": null,
      "outputs": []
    },
    {
      "cell_type": "code",
      "source": [
        "# Create a set\n",
        "my_set = {1, 2, 3, 4, 5}\n",
        "\n",
        "# Check if an element (e.g., 3) exists in the set using the in keyword\n",
        "element_to_check = 3\n",
        "exists = element_to_check in my_set\n",
        "\n",
        "# Print the result\n",
        "print(f\"Does {element_to_check} exist in the set? {exists}\")\n"
      ],
      "metadata": {
        "id": "EVRNS7Fe2jQM"
      },
      "execution_count": null,
      "outputs": []
    },
    {
      "cell_type": "code",
      "source": [
        "# Create a set\n",
        "my_set = {1, 2, 3, 4, 5}\n",
        "\n",
        "# Clear all elements from the set\n",
        "my_set.clear()\n",
        "\n",
        "# Print the updated set\n",
        "print(\"Updated Set:\", my_set)\n"
      ],
      "metadata": {
        "id": "rD5S7gLn2y_k"
      },
      "execution_count": null,
      "outputs": []
    },
    {
      "cell_type": "code",
      "source": [
        "# Create a set of even numbers from 1 to 10 using set comprehension\n",
        "even_numbers_set = {x for x in range(2, 11, 2)}\n",
        "\n",
        "# Print the result\n",
        "print(\"Set of Even Numbers:\", even_numbers_set)\n"
      ],
      "metadata": {
        "id": "tZzhZ4ZJ29E1"
      },
      "execution_count": null,
      "outputs": []
    },
    {
      "cell_type": "code",
      "source": [
        "# Create two sets\n",
        "set1 = {1, 2, 3, 4, 5}\n",
        "set2 = {4, 5, 6, 7, 8}\n",
        "\n",
        "# Find the difference using the - operator\n",
        "difference_using_operator = set1 - set2\n",
        "\n",
        "# Find the difference using the difference() method\n",
        "difference_using_method = set1.difference(set2)\n",
        "\n",
        "# Print the results\n",
        "print(\"Difference using - operator:\", difference_using_operator)\n",
        "print(\"Difference using difference() method:\", difference_using_method)\n"
      ],
      "metadata": {
        "id": "dEyEQo2B3RX7"
      },
      "execution_count": null,
      "outputs": []
    },
    {
      "cell_type": "code",
      "source": [
        "# Create two sets\n",
        "set1 = {1, 2, 3, 4, 5}\n",
        "set2 = {2, 4}\n",
        "\n",
        "# Check if set1 is a superset of set2 using the issuperset() method\n",
        "is_superset_method = set1.issuperset(set2)\n",
        "\n",
        "# Check if set1 is a superset of set2 using the >= operator\n",
        "is_superset_operator = set1 >= set2\n",
        "\n",
        "# Print the results\n",
        "print(\"Using issuperset() method:\", is_superset_method)\n",
        "print(\"Using >= operator:\", is_superset_operator)\n"
      ],
      "metadata": {
        "id": "_7HMbscM4AcM"
      },
      "execution_count": null,
      "outputs": []
    },
    {
      "cell_type": "code",
      "source": [
        "# Create a list\n",
        "my_list = [1, 2, 3, 4, 5]\n",
        "\n",
        "# Create a set from the list using set() constructor\n",
        "my_set = set(my_list)\n",
        "\n",
        "# Print the set\n",
        "print(\"Set from List:\", my_set)\n"
      ],
      "metadata": {
        "id": "xz4WisIq4KJB"
      },
      "execution_count": null,
      "outputs": []
    },
    {
      "cell_type": "code",
      "source": [
        "# Create a set\n",
        "my_set = {1, 2, 3, 4, 5}\n",
        "\n",
        "# Convert the set to a list using list() constructor\n",
        "my_list = list(my_set)\n",
        "\n",
        "# Print the list\n",
        "print(\"List from Set:\", my_list)\n"
      ],
      "metadata": {
        "id": "P34uSM5U4dLQ"
      },
      "execution_count": null,
      "outputs": []
    },
    {
      "cell_type": "code",
      "source": [
        "# Create a set\n",
        "my_set = {1, 2, 3, 4, 5}\n",
        "\n",
        "# Pop an element from the set\n",
        "popped_element = my_set.pop()\n",
        "\n",
        "# Print the popped element and the updated set\n",
        "print(\"Popped Element:\", popped_element)\n",
        "print(\"Updated Set:\", my_set)\n"
      ],
      "metadata": {
        "id": "PcCOoszp4vZp"
      },
      "execution_count": null,
      "outputs": []
    },
    {
      "cell_type": "code",
      "source": [
        "# Create two sets\n",
        "set1 = {1, 2, 3}\n",
        "set2 = {4, 5, 6}\n",
        "\n",
        "# Check if the sets have no elements in common using isdisjoint()\n",
        "no_common_elements = set1.isdisjoint(set2)\n",
        "\n",
        "# Print the result\n",
        "print(\"Do the sets have no elements in common?\", no_common_elements)\n"
      ],
      "metadata": {
        "id": "nxqd-wPF4wmC"
      },
      "execution_count": null,
      "outputs": []
    },
    {
      "cell_type": "code",
      "source": [
        "# Create two sets\n",
        "set1 = {1, 2, 3}\n",
        "set2 = {3, 4, 5}\n",
        "\n",
        "# Update set1 with elements from set2 using update()\n",
        "set1.update(set2)\n",
        "\n",
        "# Print the updated set1\n",
        "print(\"Updated set1:\", set1)\n"
      ],
      "metadata": {
        "id": "mxznhvxG5W-4"
      },
      "execution_count": null,
      "outputs": []
    },
    {
      "cell_type": "code",
      "source": [
        "# Create two sets\n",
        "set1 = {1, 2, 3, 4, 5}\n",
        "set2 = {5, 4, 3, 2, 1}\n",
        "\n",
        "# Check if the sets are identical using ==\n",
        "are_identical = set1 == set2\n",
        "\n",
        "# Print the result\n",
        "print(\"Are the sets identical?\", are_identical)\n"
      ],
      "metadata": {
        "id": "ykjldHyC5v6Q"
      },
      "execution_count": null,
      "outputs": []
    },
    {
      "cell_type": "code",
      "source": [
        "# Create a set\n",
        "my_set = {1, 2, 3, 4, 5}\n",
        "\n",
        "# Create a frozen set from the set using frozenset()\n",
        "my_frozen_set = frozenset(my_set)\n",
        "\n",
        "# Print the frozen set\n",
        "print(\"Frozen Set:\", my_frozen_set)\n"
      ],
      "metadata": {
        "id": "Rve7oigm6cME"
      },
      "execution_count": null,
      "outputs": []
    },
    {
      "cell_type": "code",
      "source": [
        "# Create a set\n",
        "my_set = {1, 2, 3, 4, 5}\n",
        "\n",
        "# Convert the set to a list, multiply each element by 2, and create a new set\n",
        "new_set = set(x * 2 for x in my_set)\n",
        "\n",
        "# Print the new set\n",
        "print(\"New Set:\", new_set)\n"
      ],
      "metadata": {
        "id": "N-x3rFFp6p6v"
      },
      "execution_count": null,
      "outputs": []
    },
    {
      "cell_type": "code",
      "source": [
        "import random\n",
        "\n",
        "# Specify the range and size of the set\n",
        "lower_limit = 1\n",
        "upper_limit = 20\n",
        "set_size = 5\n",
        "\n",
        "# Create a set of random numbers\n",
        "random_set = set(random.randrange(lower_limit, upper_limit + 1) for _ in range(set_size))\n",
        "\n",
        "# Print the random set\n",
        "print(\"Random Set:\", random_set)\n"
      ],
      "metadata": {
        "id": "SOqJk4666zVE"
      },
      "execution_count": null,
      "outputs": []
    },
    {
      "cell_type": "code",
      "source": [
        "# Create a string\n",
        "my_string = \"hello\"\n",
        "\n",
        "# Create a set from the string using set() constructor\n",
        "my_set = set(my_string)\n",
        "\n",
        "# Print the set\n",
        "print(\"Set from String:\", my_set)\n"
      ],
      "metadata": {
        "id": "jVIJNV8t7HLl"
      },
      "execution_count": null,
      "outputs": []
    },
    {
      "cell_type": "code",
      "source": [
        "# Create a tuple\n",
        "my_tuple = (1, 2, 3, 4, 5)\n",
        "\n",
        "# Create a set from the tuple using set() constructor\n",
        "my_set = set(my_tuple)\n",
        "\n",
        "# Print the set\n",
        "print(\"Set from Tuple:\", my_set)\n"
      ],
      "metadata": {
        "id": "3_qX0dgP7YCc"
      },
      "execution_count": null,
      "outputs": []
    },
    {
      "cell_type": "code",
      "source": [
        "# Create a set\n",
        "my_set = {1, 3, 5, 7, 9, 2, 4, 6, 8, 10}\n",
        "\n",
        "# Find the maximum value in the set using max()\n",
        "max_value = max(my_set)\n",
        "\n",
        "# Print the maximum value\n",
        "print(\"Maximum Value in Set:\", max_value)\n"
      ],
      "metadata": {
        "id": "V2803sqD7vU0"
      },
      "execution_count": null,
      "outputs": []
    },
    {
      "cell_type": "code",
      "source": [
        "# Get user input as a comma-separated string\n",
        "user_input_str = input(\"Enter elements for the set (comma-separated): \")\n",
        "\n",
        "# Convert the input string into a set\n",
        "user_set = set(user_input_str.split(','))\n",
        "\n",
        "# Print the set\n",
        "print(\"Set from User Input:\", user_set)\n"
      ],
      "metadata": {
        "id": "pvKY0kIS-Rio"
      },
      "execution_count": null,
      "outputs": []
    },
    {
      "cell_type": "code",
      "source": [
        "# Create a set and a list\n",
        "my_set = {1, 2, 3, 4, 5}\n",
        "my_list = [3, 4, 5, 6, 7]\n",
        "\n",
        "# Find the common elements using the intersection() method\n",
        "common_elements_method = my_set.intersection(my_list)\n",
        "\n",
        "# Find the common elements using the & operator\n",
        "common_elements_operator = my_set & set(my_list)\n",
        "\n",
        "# Print the results\n",
        "print(\"Common Elements (using method):\", common_elements_method)\n",
        "print(\"Common Elements (using operator):\", common_elements_operator)\n"
      ],
      "metadata": {
        "id": "IQlph-I8-heG"
      },
      "execution_count": null,
      "outputs": []
    }
  ]
}